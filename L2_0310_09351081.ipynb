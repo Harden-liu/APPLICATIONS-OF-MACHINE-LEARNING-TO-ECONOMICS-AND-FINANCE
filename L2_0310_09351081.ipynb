{
 "cells": [
  {
   "cell_type": "code",
   "execution_count": 1,
   "metadata": {},
   "outputs": [
    {
     "name": "stdout",
     "output_type": "stream",
     "text": [
      "yep\n"
     ]
    }
   ],
   "source": [
    "if 1<2:\n",
    "    print('yep')"
   ]
  },
  {
   "cell_type": "code",
   "execution_count": 5,
   "metadata": {},
   "outputs": [],
   "source": [
    "if 1>2:\n",
    "    print('e')"
   ]
  },
  {
   "cell_type": "code",
   "execution_count": 4,
   "metadata": {},
   "outputs": [
    {
     "name": "stdout",
     "output_type": "stream",
     "text": [
      "true\n"
     ]
    }
   ],
   "source": [
    "if 2>1:\n",
    "    print('true')\n",
    "else:\n",
    "    print('error')"
   ]
  },
  {
   "cell_type": "code",
   "execution_count": 6,
   "metadata": {},
   "outputs": [
    {
     "name": "stdout",
     "output_type": "stream",
     "text": [
      "error\n"
     ]
    }
   ],
   "source": [
    "if 2==1:\n",
    "    print('true')\n",
    "else:\n",
    "    print('error')"
   ]
  },
  {
   "cell_type": "code",
   "execution_count": 11,
   "metadata": {},
   "outputs": [
    {
     "name": "stdout",
     "output_type": "stream",
     "text": [
      "请输入总成绩....78\n",
      "C\n"
     ]
    }
   ],
   "source": [
    "score=eval(input(\"请输入总成绩....\"))\n",
    "if score>=90:\n",
    "    print('A')\n",
    "elif score>=80 and score<90:\n",
    "    print('B')\n",
    "elif score>=70 and score<80:\n",
    "    print('C')\n",
    "elif score<70 and score>=60:\n",
    "    print('D')\n",
    "else:\n",
    "    print('E')\n"
   ]
  },
  {
   "cell_type": "code",
   "execution_count": 12,
   "metadata": {},
   "outputs": [
    {
     "name": "stdout",
     "output_type": "stream",
     "text": [
      "1\n",
      "2\n",
      "3\n",
      "4\n"
     ]
    }
   ],
   "source": [
    "for j in range(1,5):\n",
    "    print(j)"
   ]
  },
  {
   "cell_type": "code",
   "execution_count": 13,
   "metadata": {},
   "outputs": [
    {
     "name": "stdout",
     "output_type": "stream",
     "text": [
      "0\n",
      "1\n",
      "2\n",
      "3\n",
      "4\n"
     ]
    }
   ],
   "source": [
    "for r in range(5):\n",
    "    print(r)"
   ]
  },
  {
   "cell_type": "code",
   "execution_count": 14,
   "metadata": {},
   "outputs": [
    {
     "name": "stdout",
     "output_type": "stream",
     "text": [
      "九九乘法表......\n",
      "\n",
      "\n",
      "\n",
      "1...\n",
      "\n",
      "1*1=1\n",
      "1*2=2\n",
      "1*3=3\n",
      "1*4=4\n",
      "1*5=5\n",
      "1*6=6\n",
      "1*7=7\n",
      "1*8=8\n",
      "1*9=9\n",
      "\n",
      "\n",
      "2...\n",
      "\n",
      "2*1=2\n",
      "2*2=4\n",
      "2*3=6\n",
      "2*4=8\n",
      "2*5=10\n",
      "2*6=12\n",
      "2*7=14\n",
      "2*8=16\n",
      "2*9=18\n",
      "\n",
      "\n",
      "3...\n",
      "\n",
      "3*1=3\n",
      "3*2=6\n",
      "3*3=9\n",
      "3*4=12\n",
      "3*5=15\n",
      "3*6=18\n",
      "3*7=21\n",
      "3*8=24\n",
      "3*9=27\n",
      "\n",
      "\n",
      "4...\n",
      "\n",
      "4*1=4\n",
      "4*2=8\n",
      "4*3=12\n",
      "4*4=16\n",
      "4*5=20\n",
      "4*6=24\n",
      "4*7=28\n",
      "4*8=32\n",
      "4*9=36\n",
      "\n",
      "\n",
      "5...\n",
      "\n",
      "5*1=5\n",
      "5*2=10\n",
      "5*3=15\n",
      "5*4=20\n",
      "5*5=25\n",
      "5*6=30\n",
      "5*7=35\n",
      "5*8=40\n",
      "5*9=45\n",
      "\n",
      "\n",
      "6...\n",
      "\n",
      "6*1=6\n",
      "6*2=12\n",
      "6*3=18\n",
      "6*4=24\n",
      "6*5=30\n",
      "6*6=36\n",
      "6*7=42\n",
      "6*8=48\n",
      "6*9=54\n",
      "\n",
      "\n",
      "7...\n",
      "\n",
      "7*1=7\n",
      "7*2=14\n",
      "7*3=21\n",
      "7*4=28\n",
      "7*5=35\n",
      "7*6=42\n",
      "7*7=49\n",
      "7*8=56\n",
      "7*9=63\n",
      "\n",
      "\n",
      "8...\n",
      "\n",
      "8*1=8\n",
      "8*2=16\n",
      "8*3=24\n",
      "8*4=32\n",
      "8*5=40\n",
      "8*6=48\n",
      "8*7=56\n",
      "8*8=64\n",
      "8*9=72\n",
      "\n",
      "\n",
      "9...\n",
      "\n",
      "9*1=9\n",
      "9*2=18\n",
      "9*3=27\n",
      "9*4=36\n",
      "9*5=45\n",
      "9*6=54\n",
      "9*7=63\n",
      "9*8=72\n",
      "9*9=81\n",
      "\n",
      " 執行完畢...\n",
      "\n"
     ]
    }
   ],
   "source": [
    " print('九九乘法表......\\n')\n",
    "for i in range(1,10):\n",
    "    print('\\n\\n'+str(i)+'...\\n')\n",
    "    for j in range(1,10):\n",
    "        num=i*j\n",
    "        print(str(i)+'*'+str(j)+'='+str(num))\n",
    "print('\\n 執行完畢...\\n')"
   ]
  },
  {
   "cell_type": "code",
   "execution_count": 16,
   "metadata": {},
   "outputs": [
    {
     "name": "stdout",
     "output_type": "stream",
     "text": [
      "i is: 1\n",
      "i is: 2\n",
      "i is: 3\n",
      "i is: 4\n",
      "i is: 5\n",
      "i is: 6\n",
      "i is: 7\n",
      "i is: 8\n",
      "i is: 9\n",
      "i is: 10\n",
      "i is: 11\n",
      "i is: 12\n",
      "i is: 13\n",
      "i is: 14\n",
      "i is: 15\n",
      "i is: 16\n",
      "i is: 17\n",
      "i is: 18\n",
      "i is: 19\n",
      "i is: 20\n",
      "i is: 21\n",
      "i is: 22\n",
      "i is: 23\n",
      "i is: 24\n",
      "i is: 25\n",
      "i is: 26\n",
      "i is: 27\n",
      "i is: 28\n",
      "i is: 29\n",
      "i is: 30\n",
      "i is: 31\n",
      "i is: 32\n",
      "i is: 33\n",
      "i is: 34\n"
     ]
    }
   ],
   "source": [
    "i = 1\n",
    "while (i < 35):\n",
    "    print('i is: {}'.format(i))\n",
    "    i += 1  "
   ]
  },
  {
   "cell_type": "code",
   "execution_count": 18,
   "metadata": {},
   "outputs": [
    {
     "name": "stdout",
     "output_type": "stream",
     "text": [
      "i is: 1\n",
      "i is: 2\n",
      "i is: 3\n",
      "i is: 4\n",
      "i is: 5\n",
      "i is: 6\n",
      "i is: 7\n",
      "i is: 8\n",
      "i is: 9\n",
      "i is: 10\n",
      "i is: 11\n",
      "i is: 12\n",
      "i is: 13\n",
      "i is: 14\n",
      "i is: 15\n",
      "i is: 16\n",
      "i is: 17\n",
      "i is: 18\n",
      "i is: 19\n",
      "i is: 20\n",
      "i is: 21\n",
      "i is: 22\n",
      "i is: 23\n",
      "i is: 24\n",
      "i is: 26\n",
      "i is: 27\n",
      "i is: 28\n",
      "i is: 29\n",
      "i is: 30\n",
      "i is: 31\n",
      "i is: 32\n",
      "i is: 33\n",
      "i is: 34\n",
      "i is: 35\n",
      "i is: 36\n",
      "i is: 37\n",
      "i is: 38\n",
      "i is: 39\n",
      "i is: 40\n",
      "i is: 41\n",
      "i is: 42\n",
      "i is: 43\n",
      "i is: 44\n",
      "i is: 45\n",
      "i is: 46\n",
      "i is: 47\n",
      "i is: 48\n",
      "i is: 49\n"
     ]
    }
   ],
   "source": [
    "i = 0\n",
    "while True:\n",
    "    i += 1  \n",
    "    if i == 25: \n",
    "        continue         #不判斷而是回到迴圈, 執行下一個數字\n",
    "    elif i == 50:\n",
    "        break            #強制停止迴圈\n",
    "    print('i is: {}'.format(i))"
   ]
  },
  {
   "cell_type": "code",
   "execution_count": 19,
   "metadata": {},
   "outputs": [],
   "source": [
    "import math"
   ]
  },
  {
   "cell_type": "markdown",
   "metadata": {},
   "source": [
    "function"
   ]
  },
  {
   "cell_type": "code",
   "execution_count": 25,
   "metadata": {},
   "outputs": [
    {
     "data": {
      "text/plain": [
       "729"
      ]
     },
     "execution_count": 25,
     "metadata": {},
     "output_type": "execute_result"
    }
   ],
   "source": [
    "def square(x):\n",
    "    return  x*x**2\n",
    "outcome = square(9)\n",
    "outcome"
   ]
  },
  {
   "cell_type": "code",
   "execution_count": 26,
   "metadata": {},
   "outputs": [],
   "source": [
    "import random"
   ]
  },
  {
   "cell_type": "code",
   "execution_count": 28,
   "metadata": {},
   "outputs": [
    {
     "name": "stdout",
     "output_type": "stream",
     "text": [
      "請問你出什麼拳(1是剪刀, 2是石頭, 3是布)?2\n",
      "隨機數是3\n",
      "你是石頭, 電腦是布 ... 電腦贏!\n",
      "\n",
      "\n",
      "要繼續玩嗎(Y/N)?Y\n",
      "請問你出什麼拳(1是剪刀, 2是石頭, 3是布)?2\n",
      "隨機數是3\n",
      "你是石頭, 電腦是布 ... 電腦贏!\n",
      "\n",
      "\n",
      "要繼續玩嗎(Y/N)?Y\n",
      "請問你出什麼拳(1是剪刀, 2是石頭, 3是布)?1\n",
      "隨機數是2\n",
      "你是剪刀, 電腦是石頭 ... 電腦贏!\n",
      "\n",
      "\n",
      "要繼續玩嗎(Y/N)?Y\n",
      "請問你出什麼拳(1是剪刀, 2是石頭, 3是布)?2\n",
      "隨機數是1\n",
      "你是石頭, 電腦是剪刀 ... 你贏!\n",
      "\n",
      "\n"
     ]
    },
    {
     "ename": "KeyboardInterrupt",
     "evalue": "Interrupted by user",
     "output_type": "error",
     "traceback": [
      "\u001b[1;31m---------------------------------------------------------------------------\u001b[0m",
      "\u001b[1;31mKeyboardInterrupt\u001b[0m                         Traceback (most recent call last)",
      "\u001b[1;32m<ipython-input-28-821dbd2697e3>\u001b[0m in \u001b[0;36m<module>\u001b[1;34m\u001b[0m\n\u001b[0;32m     29\u001b[0m             \u001b[0mprint\u001b[0m \u001b[1;33m(\u001b[0m\u001b[1;34m'你是布, 電腦是布 ... 平手!'\u001b[0m\u001b[1;33m)\u001b[0m\u001b[1;33m\u001b[0m\u001b[1;33m\u001b[0m\u001b[0m\n\u001b[0;32m     30\u001b[0m     \u001b[0mprint\u001b[0m\u001b[1;33m(\u001b[0m\u001b[1;34m'\\n'\u001b[0m\u001b[1;33m)\u001b[0m\u001b[1;33m\u001b[0m\u001b[1;33m\u001b[0m\u001b[0m\n\u001b[1;32m---> 31\u001b[1;33m     \u001b[0magain\u001b[0m \u001b[1;33m=\u001b[0m \u001b[0minput\u001b[0m \u001b[1;33m(\u001b[0m\u001b[1;34m'要繼續玩嗎(Y/N)?'\u001b[0m\u001b[1;33m)\u001b[0m\u001b[1;33m\u001b[0m\u001b[1;33m\u001b[0m\u001b[0m\n\u001b[0m",
      "\u001b[1;32m~\\anaconda3\\lib\\site-packages\\ipykernel\\kernelbase.py\u001b[0m in \u001b[0;36mraw_input\u001b[1;34m(self, prompt)\u001b[0m\n\u001b[0;32m    858\u001b[0m                 \u001b[1;34m\"raw_input was called, but this frontend does not support input requests.\"\u001b[0m\u001b[1;33m\u001b[0m\u001b[1;33m\u001b[0m\u001b[0m\n\u001b[0;32m    859\u001b[0m             )\n\u001b[1;32m--> 860\u001b[1;33m         return self._input_request(str(prompt),\n\u001b[0m\u001b[0;32m    861\u001b[0m             \u001b[0mself\u001b[0m\u001b[1;33m.\u001b[0m\u001b[0m_parent_ident\u001b[0m\u001b[1;33m,\u001b[0m\u001b[1;33m\u001b[0m\u001b[1;33m\u001b[0m\u001b[0m\n\u001b[0;32m    862\u001b[0m             \u001b[0mself\u001b[0m\u001b[1;33m.\u001b[0m\u001b[0m_parent_header\u001b[0m\u001b[1;33m,\u001b[0m\u001b[1;33m\u001b[0m\u001b[1;33m\u001b[0m\u001b[0m\n",
      "\u001b[1;32m~\\anaconda3\\lib\\site-packages\\ipykernel\\kernelbase.py\u001b[0m in \u001b[0;36m_input_request\u001b[1;34m(self, prompt, ident, parent, password)\u001b[0m\n\u001b[0;32m    902\u001b[0m             \u001b[1;32mexcept\u001b[0m \u001b[0mKeyboardInterrupt\u001b[0m\u001b[1;33m:\u001b[0m\u001b[1;33m\u001b[0m\u001b[1;33m\u001b[0m\u001b[0m\n\u001b[0;32m    903\u001b[0m                 \u001b[1;31m# re-raise KeyboardInterrupt, to truncate traceback\u001b[0m\u001b[1;33m\u001b[0m\u001b[1;33m\u001b[0m\u001b[1;33m\u001b[0m\u001b[0m\n\u001b[1;32m--> 904\u001b[1;33m                 \u001b[1;32mraise\u001b[0m \u001b[0mKeyboardInterrupt\u001b[0m\u001b[1;33m(\u001b[0m\u001b[1;34m\"Interrupted by user\"\u001b[0m\u001b[1;33m)\u001b[0m \u001b[1;32mfrom\u001b[0m \u001b[1;32mNone\u001b[0m\u001b[1;33m\u001b[0m\u001b[1;33m\u001b[0m\u001b[0m\n\u001b[0m\u001b[0;32m    905\u001b[0m             \u001b[1;32mexcept\u001b[0m \u001b[0mException\u001b[0m \u001b[1;32mas\u001b[0m \u001b[0me\u001b[0m\u001b[1;33m:\u001b[0m\u001b[1;33m\u001b[0m\u001b[1;33m\u001b[0m\u001b[0m\n\u001b[0;32m    906\u001b[0m                 \u001b[0mself\u001b[0m\u001b[1;33m.\u001b[0m\u001b[0mlog\u001b[0m\u001b[1;33m.\u001b[0m\u001b[0mwarning\u001b[0m\u001b[1;33m(\u001b[0m\u001b[1;34m\"Invalid Message:\"\u001b[0m\u001b[1;33m,\u001b[0m \u001b[0mexc_info\u001b[0m\u001b[1;33m=\u001b[0m\u001b[1;32mTrue\u001b[0m\u001b[1;33m)\u001b[0m\u001b[1;33m\u001b[0m\u001b[1;33m\u001b[0m\u001b[0m\n",
      "\u001b[1;31mKeyboardInterrupt\u001b[0m: Interrupted by user"
     ]
    }
   ],
   "source": [
    "'''\n",
    "Dosctring goes here\n",
    "利用隨機樹函式設計遊戲'''\n",
    "again = 'Y'\n",
    "while (again == 'Y' or again == 'y'):\n",
    "    player = eval(input('請問你出什麼拳(1是剪刀, 2是石頭, 3是布)?'))\n",
    "    computer = random.randint(1,3) \n",
    "    print ('隨機數是' + str(computer))\n",
    "    if (player ==1):\n",
    "        if (computer ==1):\n",
    "            print ('你是剪刀, 電腦是剪刀 ... 平手!')\n",
    "        if (computer ==2):\n",
    "            print ('你是剪刀, 電腦是石頭 ... 電腦贏!')\n",
    "        if (computer ==3):\n",
    "            print ('你是剪刀, 電腦是布 ... 你贏!')\n",
    "    if (player ==2):\n",
    "        if (computer ==1):\n",
    "            print ('你是石頭, 電腦是剪刀 ... 你贏!')\n",
    "        if (computer ==2):\n",
    "            print ('你是石頭, 電腦是石頭 ... 平手!')\n",
    "        if (computer ==3):\n",
    "            print ('你是石頭, 電腦是布 ... 電腦贏!')\n",
    "    if (player ==3):\n",
    "        if (computer ==1):\n",
    "            print ('你是布, 電腦是剪刀 ... 電腦贏!')\n",
    "        if (computer ==2):\n",
    "            print ('你是布, 電腦是石頭 ... 你贏!')\n",
    "        if (computer ==3):\n",
    "            print ('你是布, 電腦是布 ... 平手!')\n",
    "    print('\\n')\n",
    "    again = input ('要繼續玩嗎(Y/N)?')"
   ]
  },
  {
   "cell_type": "markdown",
   "metadata": {},
   "source": [
    "作業1"
   ]
  },
  {
   "cell_type": "code",
   "execution_count": 104,
   "metadata": {},
   "outputs": [
    {
     "name": "stdout",
     "output_type": "stream",
     "text": [
      "請輸入你的速度....65\n",
      "是否是你的生日(請輸入數字，數字1為過生日，0為不是）....1\n",
      "Small ticket\n"
     ]
    }
   ],
   "source": [
    "speed = eval(input(\"請輸入你的速度....\"))\n",
    "birth =eval(input(\"是否是你的生日(請輸入數字，數字1為過生日，0為不是）....\"))\n",
    "if birth == 1 :\n",
    "    speed==speed-5\n",
    "    if speed > 80 :\n",
    "        print('Big ticket')\n",
    "    elif speed >= 61 and speed <= 80:\n",
    "        print('Small ticket')\n",
    "    else:\n",
    "        print('No Ticket')\n",
    "elif birth == 0 :\n",
    "    speed==speed\n",
    "    if speed > 80:\n",
    "        print('Big ticket')\n",
    "    elif speed <= 80 and speed >=61:\n",
    "        print('Small ticket')\n",
    "    else:\n",
    "        print('No Ticket')\n",
    "else:\n",
    "    print('請輸入符合題目的數字!')#出現錯誤障礙"
   ]
  },
  {
   "cell_type": "code",
   "execution_count": 120,
   "metadata": {},
   "outputs": [
    {
     "name": "stdout",
     "output_type": "stream",
     "text": [
      "請輸入你的速度....85\n",
      "是否是你的生日(請輸入數字，數字1為過生日，0為不是）....1\n",
      "Small ticket\n"
     ]
    }
   ],
   "source": [
    "speed = eval(input(\"請輸入你的速度....\"))\n",
    "birth =eval(input(\"是否是你的生日(請輸入數字，數字1為過生日，0為不是）....\"))\n",
    "if birth == 1 :\n",
    "    speeding=speed-5\n",
    "    if speeding > 80 :\n",
    "        print('Big ticket')\n",
    "    if 60 < speeding <= 80:\n",
    "        print('Small ticket')\n",
    "    if speeding <= 60:\n",
    "        print('No Ticket')\n",
    "elif birth == 0 :\n",
    "    speeding==speed\n",
    "    if speeding > 80:\n",
    "        print('Big ticket')\n",
    "    if 60 < speeding <= 80:\n",
    "        print('Small ticket')\n",
    "    if speeding <= 60:\n",
    "        print('No Ticket')\n"
   ]
  },
  {
   "cell_type": "code",
   "execution_count": 97,
   "metadata": {},
   "outputs": [],
   "source": [
    "def isPrime(n):\n",
    "    if num > 1:\n",
    "        for i in range(2,num):\n",
    "            if (n % i) == 0:\n",
    "                return False\n",
    "            else:\n",
    "                return True\n",
    "    else:\n",
    "        return False"
   ]
  },
  {
   "cell_type": "code",
   "execution_count": 68,
   "metadata": {},
   "outputs": [
    {
     "data": {
      "text/plain": [
       "False"
      ]
     },
     "execution_count": 68,
     "metadata": {},
     "output_type": "execute_result"
    }
   ],
   "source": [
    "isPrime(250)"
   ]
  },
  {
   "cell_type": "code",
   "execution_count": 69,
   "metadata": {},
   "outputs": [
    {
     "name": "stdout",
     "output_type": "stream",
     "text": [
      "請輸入密碼....1234\n",
      "你輸入的密碼正確\n"
     ]
    }
   ],
   "source": [
    "password = eval(input(\"請輸入密碼....\"))\n",
    "if password==1234:\n",
    "    print('你輸入的密碼正確')\n",
    "else:\n",
    "    print('你輸入的密碼錯誤')"
   ]
  },
  {
   "cell_type": "code",
   "execution_count": null,
   "metadata": {},
   "outputs": [],
   "source": []
  },
  {
   "cell_type": "code",
   "execution_count": null,
   "metadata": {},
   "outputs": [],
   "source": []
  },
  {
   "cell_type": "code",
   "execution_count": null,
   "metadata": {},
   "outputs": [],
   "source": []
  }
 ],
 "metadata": {
  "kernelspec": {
   "display_name": "Python 3",
   "language": "python",
   "name": "python3"
  },
  "language_info": {
   "codemirror_mode": {
    "name": "ipython",
    "version": 3
   },
   "file_extension": ".py",
   "mimetype": "text/x-python",
   "name": "python",
   "nbconvert_exporter": "python",
   "pygments_lexer": "ipython3",
   "version": "3.8.5"
  }
 },
 "nbformat": 4,
 "nbformat_minor": 4
}
